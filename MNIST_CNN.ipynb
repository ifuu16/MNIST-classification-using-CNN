{
 "cells": [
  {
   "cell_type": "code",
   "execution_count": 1,
   "id": "f80a945b",
   "metadata": {},
   "outputs": [],
   "source": [
    "#Import relevant libraries\n",
    "import tensorflow as tf\n",
    "import tensorflow_datasets as tfds\n",
    "from tensorflow import keras\n",
    "from tensorflow.keras.models import Sequential\n",
    "from tensorflow.keras.layers import Dense\n",
    "from tensorflow.keras.callbacks import EarlyStopping\n",
    "from tensorflow.keras.layers import Conv2D\n",
    "from tensorflow.keras.layers import MaxPooling2D\n",
    "from tensorflow.keras.layers import Flatten"
   ]
  },
  {
   "cell_type": "code",
   "execution_count": 2,
   "id": "8cbea091",
   "metadata": {},
   "outputs": [],
   "source": [
    "#Define the hyperparameters\n",
    "BUFFER_SIZE = 70_000\n",
    "BATCH_SIZE = 128\n",
    "NUM_EPOCHS = 20"
   ]
  },
  {
   "cell_type": "code",
   "execution_count": 3,
   "id": "5fcf5380",
   "metadata": {},
   "outputs": [],
   "source": [
    "#Download the dataset\n",
    "mnist_dataset, mnist_info = tfds.load(name='mnist', with_info = True, as_supervised=True)\n",
    "\n",
    "mnist_train, mnist_test = mnist_dataset['train'],  mnist_dataset['test']\n",
    "\n",
    "\n",
    "#Scaling the dataset. Fist cast the image to avoid value error\n",
    "def scale(image,label):\n",
    "    image = tf.cast(image, tf.float32)\n",
    "    image /= 225.\n",
    "    \n",
    "    return image, label\n",
    "    "
   ]
  },
  {
   "cell_type": "code",
   "execution_count": 4,
   "id": "3715952a",
   "metadata": {},
   "outputs": [],
   "source": [
    "train_and_validation_data = mnist_train.map(scale)\n",
    "test_data = mnist_test.map(scale)\n",
    "\n",
    "#creating the number of validation dataset from the training dataset\n",
    "num_validation_samples = 0.1*mnist_info.splits['train'].num_examples\n",
    "\n",
    "#convert number of the validation sample to an integer to prevent potential issue\n",
    "num_validation_samples = tf.cast(num_validation_samples, tf.int64)\n",
    "\n",
    "#get the number data point in our  test samples\n",
    "num_test_samples = mnist_info.splits['test'].num_examples\n",
    "num_test_samples = tf.cast(num_test_samples, tf.int64)\n",
    "\n",
    "#Shuffle the training and validation dataset\n",
    "shuffle_train_and_validation_data = train_and_validation_data.shuffle(BUFFER_SIZE)\n",
    "\n",
    "\n",
    "#create the train data\n",
    "train_data = shuffle_train_and_validation_data.skip(num_validation_samples)\n",
    "\n",
    "#create the validation data\n",
    "validation_data = shuffle_train_and_validation_data.take(num_validation_samples)\n",
    "\n",
    "\n",
    "#batching the training data\n",
    "\n",
    "train_data = train_data.batch(BATCH_SIZE)\n",
    "\n",
    "#No need to batch the validation and test data(we are not backpropagating on them ). Hence we will take all at once]\n",
    "validation_data = validation_data.batch(num_validation_samples)\n",
    "\n",
    "test_data = test_data.batch(num_test_samples)\n",
    "\n",
    "validation_inputs, validation_targets = next(iter(validation_data))\n",
    "\n",
    "\n",
    "\n",
    "\n",
    " "
   ]
  },
  {
   "cell_type": "code",
   "execution_count": 5,
   "id": "35f4361d",
   "metadata": {},
   "outputs": [],
   "source": [
    "#Creating the model\n",
    "model = Sequential([\n",
    "        Conv2D(50, 5, activation= 'relu', input_shape=(28,28,1)),\n",
    "        MaxPooling2D(pool_size=(2,2)),\n",
    "        Conv2D(50, 3, activation= 'relu'),\n",
    "        MaxPooling2D(pool_size=(2,2)),\n",
    "        Flatten(),\n",
    "        Dense(10)\n",
    "])"
   ]
  },
  {
   "cell_type": "code",
   "execution_count": 6,
   "id": "9d37cebc",
   "metadata": {},
   "outputs": [
    {
     "name": "stdout",
     "output_type": "stream",
     "text": [
      "Model: \"sequential\"\n",
      "___________________________________________________________________________\n",
      " Layer (type)                    Output Shape                  Param #     \n",
      "===========================================================================\n",
      " conv2d (Conv2D)                 (None, 24, 24, 50)            1300        \n",
      "                                                                           \n",
      " max_pooling2d (MaxPooling2D)    (None, 12, 12, 50)            0           \n",
      "                                                                           \n",
      " conv2d_1 (Conv2D)               (None, 10, 10, 50)            22550       \n",
      "                                                                           \n",
      " max_pooling2d_1 (MaxPooling2D)  (None, 5, 5, 50)              0           \n",
      "                                                                           \n",
      " flatten (Flatten)               (None, 1250)                  0           \n",
      "                                                                           \n",
      " dense (Dense)                   (None, 10)                    12510       \n",
      "                                                                           \n",
      "===========================================================================\n",
      "Total params: 36,360\n",
      "Trainable params: 36,360\n",
      "Non-trainable params: 0\n",
      "___________________________________________________________________________\n"
     ]
    }
   ],
   "source": [
    "model.summary(line_length=75)"
   ]
  },
  {
   "cell_type": "code",
   "execution_count": 7,
   "id": "2f49cd30",
   "metadata": {},
   "outputs": [],
   "source": [
    "#describe the loss function\n",
    "loss_fn = tf.keras.losses.SparseCategoricalCrossentropy(from_logits=True)\n",
    "#Compile the model\n",
    "\n",
    "model.compile(optimizer='adam', loss=loss_fn, metrics=['accuracy'])\n",
    "\n",
    "\n",
    "#Stop the model from overfitting ie whenever the validation loss increases\n",
    "#the code tells the model to stop when the val_loss starts to increase in two subsequent epics\n",
    "\n",
    "early_stopping = EarlyStopping(\n",
    "    monitor= 'val_loss',\n",
    "    mode = 'auto',\n",
    "    min_delta = 0,\n",
    "    patience = 2,\n",
    "    verbose = 0,\n",
    "    restore_best_weights = True\n",
    ")"
   ]
  },
  {
   "cell_type": "code",
   "execution_count": 8,
   "id": "565cb469",
   "metadata": {},
   "outputs": [
    {
     "name": "stdout",
     "output_type": "stream",
     "text": [
      "Epoch 1/20\n",
      "422/422 - 35s - loss: 0.2663 - accuracy: 0.9225 - val_loss: 0.0729 - val_accuracy: 0.9773 - 35s/epoch - 82ms/step\n",
      "Epoch 2/20\n",
      "422/422 - 32s - loss: 0.0716 - accuracy: 0.9777 - val_loss: 0.0574 - val_accuracy: 0.9805 - 32s/epoch - 75ms/step\n",
      "Epoch 3/20\n",
      "422/422 - 31s - loss: 0.0526 - accuracy: 0.9837 - val_loss: 0.0441 - val_accuracy: 0.9862 - 31s/epoch - 74ms/step\n",
      "Epoch 4/20\n",
      "422/422 - 33s - loss: 0.0424 - accuracy: 0.9869 - val_loss: 0.0325 - val_accuracy: 0.9900 - 33s/epoch - 78ms/step\n",
      "Epoch 5/20\n",
      "422/422 - 33s - loss: 0.0365 - accuracy: 0.9887 - val_loss: 0.0322 - val_accuracy: 0.9912 - 33s/epoch - 79ms/step\n",
      "Epoch 6/20\n",
      "422/422 - 32s - loss: 0.0325 - accuracy: 0.9898 - val_loss: 0.0311 - val_accuracy: 0.9910 - 32s/epoch - 76ms/step\n",
      "Epoch 7/20\n",
      "422/422 - 32s - loss: 0.0265 - accuracy: 0.9916 - val_loss: 0.0186 - val_accuracy: 0.9942 - 32s/epoch - 76ms/step\n",
      "Epoch 8/20\n",
      "422/422 - 35s - loss: 0.0246 - accuracy: 0.9922 - val_loss: 0.0208 - val_accuracy: 0.9935 - 35s/epoch - 82ms/step\n",
      "Epoch 9/20\n",
      "422/422 - 35s - loss: 0.0203 - accuracy: 0.9934 - val_loss: 0.0212 - val_accuracy: 0.9927 - 35s/epoch - 82ms/step\n"
     ]
    },
    {
     "data": {
      "text/plain": [
       "<keras.callbacks.History at 0x25e06ccf250>"
      ]
     },
     "execution_count": 8,
     "metadata": {},
     "output_type": "execute_result"
    }
   ],
   "source": [
    "#Train the model\n",
    "model.fit(\n",
    "    train_data,\n",
    "    epochs = NUM_EPOCHS,\n",
    "    callbacks = [early_stopping],\n",
    "    validation_data = validation_data,\n",
    "    verbose =2\n",
    ")"
   ]
  },
  {
   "cell_type": "code",
   "execution_count": 14,
   "id": "6f4fd383",
   "metadata": {},
   "outputs": [
    {
     "name": "stdout",
     "output_type": "stream",
     "text": [
      "1/1 [==============================] - 1s 1s/step - loss: 0.0295 - accuracy: 0.9897\n",
      "Test Loss: 0.03. Test Accuracy:98.97%\n"
     ]
    }
   ],
   "source": [
    "#Test the model\n",
    "test_loss, test_accuracy = model.evaluate(test_data)\n",
    "\n",
    "print(f'Test Loss: {round(test_loss,2)}. Test Accuracy:{round(test_accuracy*100,2)}%')"
   ]
  },
  {
   "cell_type": "code",
   "execution_count": 41,
   "id": "9cccc936",
   "metadata": {},
   "outputs": [
    {
     "data": {
      "image/png": "[encoded data removed]",
      "text/plain": [
       "<Figure size 144x144 with 1 Axes>"
      ]
     },
     "metadata": {
      "needs_background": "light"
     },
     "output_type": "display_data"
    }
   ],
   "source": [
    "\n",
    "#Plot the image and result\n",
    "import matplotlib.pyplot as plt\n",
    "import numpy as np\n",
    "\n",
    "\n",
    "# Get and display the first n images from the training dataset. n=2\n",
    "num_images_to_display = 1\n",
    "for image, label in test_data.take(num_images_to_display):\n",
    "    sample_image = image.numpy()# Convert to numpy array and remove singleton dimensions\n",
    "    sample_label = label.numpy()\n",
    "\n",
    "original_images = sample_image.reshape(10000, 28, 28)\n",
    "\n",
    "# Display the image using matplotlib\n",
    "image_number_to_display = 6\n",
    "plt.figure(figsize=(2,2))\n",
    "plt.imshow(sample_image[image_number_to_display], cmap='gray', aspect=\"auto\")\n",
    "plt.title(f'Label: {sample_label[image_number_to_display]}')\n",
    "plt.axis('off')  # Turn off axis\n",
    "plt.show()"
   ]
  },
  {
   "cell_type": "code",
   "execution_count": 42,
   "id": "fd97b810",
   "metadata": {},
   "outputs": [
    {
     "name": "stdout",
     "output_type": "stream",
     "text": [
      "1/1 [==============================] - 0s 32ms/step\n"
     ]
    },
    {
     "data": {
      "text/plain": [
       "<BarContainer object of 10 artists>"
      ]
     },
     "execution_count": 42,
     "metadata": {},
     "output_type": "execute_result"
    },
    {
     "data": {
      "image/png": "[encoded data removed]",
      "text/plain": [
       "<Figure size 864x360 with 1 Axes>"
      ]
     },
     "metadata": {
      "needs_background": "light"
     },
     "output_type": "display_data"
    }
   ],
   "source": [
    "#Obtain the model's prediction(logits)\n",
    "\n",
    "#Using slicing is important because tensorflow expects inputs to be in batches\n",
    "predictions = model.predict(sample_image[image_number_to_display:image_number_to_display+1])\n",
    "\n",
    "#Convert the predictions into probabilities and to percentage\n",
    "probabilities = (tf.nn.softmax(predictions).numpy()) *100\n",
    "\n",
    "#Create a bar chart to plot the probabilities for each class\n",
    "plt.figure(figsize=(12,5))\n",
    "plt.bar(x=[1,2,3,4,5,6,7,8,9,10], height=probabilities[0], tick_label=[\"0\", \"1\",\"2\",\"3\",\"4\",\"5\",\"6\",\"7\",\"8\",\"9\"])"
   ]
  },
  {
   "cell_type": "code",
   "execution_count": null,
   "id": "956201a4",
   "metadata": {},
   "outputs": [],
   "source": []
  }
 ],
 "metadata": {
  "kernelspec": {
   "display_name": "Python 3 (ipykernel)",
   "language": "python",
   "name": "python3"
  },
  "language_info": {
   "codemirror_mode": {
    "name": "ipython",
    "version": 3
   },
   "file_extension": ".py",
   "mimetype": "text/x-python",
   "name": "python",
   "nbconvert_exporter": "python",
   "pygments_lexer": "ipython3",
   "version": "3.9.12"
  }
 },
 "nbformat": 4,
 "nbformat_minor": 5
}
