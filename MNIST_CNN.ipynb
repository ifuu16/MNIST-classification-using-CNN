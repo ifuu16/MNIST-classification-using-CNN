{
 "cells": [
  {
   "cell_type": "code",
   "execution_count": 24,
   "id": "f80a945b",
   "metadata": {},
   "outputs": [],
   "source": [
    "#Import relevant libraries\n",
    "import tensorflow as tf\n",
    "import tensorflow_datasets as tfds\n",
    "from tensorflow import keras\n",
    "from tensorflow.keras.models import Sequential\n",
    "from tensorflow.keras.callbacks import EarlyStopping, TensorBoard\n",
    "from tensorflow.keras.layers import Conv2D, MaxPooling2D, Flatten, Dense\n",
    "# import datetime\n",
    "from sklearn.metrics import confusion_matrix, ConfusionMatrixDisplay\n",
    "import matplotlib.pyplot as plt\n",
    "import numpy as np\n",
    "import seaborn as sns\n",
    "from tensorboard.plugins.hparams import api as hp"
   ]
  },
  {
   "cell_type": "code",
   "execution_count": 25,
   "id": "8cbea091",
   "metadata": {},
   "outputs": [],
   "source": [
    "#Define the hyperparameters\n",
    "BUFFER_SIZE = 70_000\n",
    "BATCH_SIZE = 128\n",
    "NUM_EPOCHS = 20"
   ]
  },
  {
   "cell_type": "code",
   "execution_count": 26,
   "id": "5fcf5380",
   "metadata": {},
   "outputs": [],
   "source": [
    "#Download the dataset\n",
    "mnist_dataset, mnist_info = tfds.load(name='mnist', with_info = True, as_supervised=True)\n",
    "\n",
    "mnist_train, mnist_test = mnist_dataset['train'],  mnist_dataset['test']\n",
    "\n",
    "\n",
    "#Scaling the dataset. Fist cast the image to avoid value error\n",
    "def scale(image,label):\n",
    "    image = tf.cast(image, tf.float32)\n",
    "    image /= 225.\n",
    "    \n",
    "    return image, label\n",
    "    "
   ]
  },
  {
   "cell_type": "code",
   "execution_count": 27,
   "id": "3715952a",
   "metadata": {},
   "outputs": [],
   "source": [
    "train_and_validation_data = mnist_train.map(scale)\n",
    "test_data = mnist_test.map(scale)\n",
    "\n",
    "#creating the number of validation dataset from the training dataset\n",
    "num_validation_samples = 0.1*mnist_info.splits['train'].num_examples\n",
    "\n",
    "#convert number of the validation sample to an integer to prevent potential issue\n",
    "num_validation_samples = tf.cast(num_validation_samples, tf.int64)\n",
    "\n",
    "#get the number data point in our  test samples\n",
    "num_test_samples = mnist_info.splits['test'].num_examples\n",
    "num_test_samples = tf.cast(num_test_samples, tf.int64)\n",
    "\n",
    "#Shuffle the training and validation dataset\n",
    "shuffle_train_and_validation_data = train_and_validation_data.shuffle(BUFFER_SIZE)\n",
    "\n",
    "\n",
    "#create the train data\n",
    "train_data = shuffle_train_and_validation_data.skip(num_validation_samples)\n",
    "\n",
    "#create the validation data\n",
    "validation_data = shuffle_train_and_validation_data.take(num_validation_samples)\n",
    "\n",
    "\n",
    "#batching the training data\n",
    "\n",
    "train_data = train_data.batch(BATCH_SIZE)\n",
    "\n",
    "#No need to batch the validation and test data(we are not backpropagating on them ). Hence we will take all at once]\n",
    "validation_data = validation_data.batch(num_validation_samples)\n",
    "\n",
    "test_data = test_data.batch(num_test_samples)\n",
    "\n",
    "validation_inputs, validation_targets = next(iter(validation_data))\n",
    "\n",
    "\n",
    "\n",
    "\n",
    " "
   ]
  },
  {
   "cell_type": "code",
   "execution_count": 30,
   "id": "893a6beb",
   "metadata": {},
   "outputs": [],
   "source": [
    "#Define the hyperparamets to tune and the variations we want to test.\n",
    "HP_FILTER_SIZE = hp.HParam('filter_size', hp.Discrete([3,5,7]))\n",
    "HP_OPTIMIZER = hp.HParam('optimizer', hp.Discrete(['adam', 'sgd']))\n",
    "\n",
    "METRIC_ACCURACY = 'accuracy'\n",
    "\n",
    "with tf.summary.create_file_writer('logs/hparam_tuning').as_default():\n",
    "    hp.hparams_config(\n",
    "        hparams=[HP_FILTER_SIZE, HP_OPTIMIZER], \n",
    "        metrics= [hp.Metric(METRIC_ACCURACY, display_name='Accuracy')]\n",
    "    )"
   ]
  },
  {
   "cell_type": "code",
   "execution_count": 33,
   "id": "1e6e5cba",
   "metadata": {},
   "outputs": [],
   "source": [
    "model = Sequential([\n",
    "            Conv2D(50, 3, activation= 'relu', input_shape=(28,28,1)),\n",
    "            MaxPooling2D(pool_size=(2,2)),\n",
    "            Conv2D(50, 3, activation= 'relu'),\n",
    "            MaxPooling2D(pool_size=(2,2)),\n",
    "            Flatten(),\n",
    "            Dense(10)\n",
    "])\n",
    "    \n",
    "    \n",
    "#describe the loss function\n",
    "loss_fn = tf.keras.losses.SparseCategoricalCrossentropy(from_logits=True)\n",
    "#Compile the model\n",
    "\n",
    "model.compile(optimizer='adam', loss=loss_fn, metrics=[METRIC_ACCURACY])\n",
    "        \n",
    "\n"
   ]
  },
  {
   "cell_type": "code",
   "execution_count": 36,
   "id": "35f4361d",
   "metadata": {},
   "outputs": [],
   "source": [
    "#CREATE THE MODEL AND TRAIN IT\n",
    "\n",
    "def train_model(hparams):\n",
    "    \n",
    "    \n",
    "#Stop the model from overfitting ie whenever the validation loss increases\n",
    "#the code tells the model to stop when the val_loss starts to increase in two subsequent epics\n",
    "\n",
    "    early_stopping = EarlyStopping(\n",
    "        monitor= 'val_loss',\n",
    "        mode = 'auto',\n",
    "        min_delta = 0,\n",
    "        patience = 2,\n",
    "        verbose = 0,\n",
    "        restore_best_weights = True\n",
    "    )\n",
    "\n",
    "#    log_dir = \"logs/hparam_tuning\"\n",
    "#    tensorboard_callback = tf.keras.callbacks.TensorBoard(log_dir=log_dir, histogram_freq=1)\n",
    "        \n",
    "#Train the model\n",
    "    model.fit(\n",
    "        train_data,\n",
    "        epochs = NUM_EPOCHS,\n",
    "        callbacks = [early_stopping],\n",
    "        validation_data = validation_data,\n",
    "        verbose =2\n",
    "    )\n",
    "\n",
    "    _,accuracy = model.evaluate(test_data)\n",
    "        \n",
    "    return accuracy\n",
    "   "
   ]
  },
  {
   "cell_type": "code",
   "execution_count": 37,
   "id": "d10e43a5",
   "metadata": {},
   "outputs": [],
   "source": [
    "def run(log_dir,hparams):\n",
    "    \n",
    "    with tf.summary.create_file_writer(log_dir).as_default():\n",
    "        hp.hparams(hparams) #record the values used in this trial\n",
    "        accuracy = train_model(hparams)\n",
    "        tf.summary.scalar(METRIC_ACCURACY, accuracy, step=1)"
   ]
  },
  {
   "cell_type": "code",
   "execution_count": 38,
   "id": "524f3137",
   "metadata": {},
   "outputs": [
    {
     "name": "stdout",
     "output_type": "stream",
     "text": [
      "---Starting trial: run-0\n",
      "{'filter_size': 3, 'optimizer': 'adam'}\n",
      "Epoch 1/20\n",
      "422/422 - 38s - loss: 0.2805 - accuracy: 0.9229 - val_loss: 0.0879 - val_accuracy: 0.9738 - 38s/epoch - 90ms/step\n",
      "Epoch 2/20\n",
      "422/422 - 36s - loss: 0.0761 - accuracy: 0.9767 - val_loss: 0.0662 - val_accuracy: 0.9773 - 36s/epoch - 86ms/step\n",
      "Epoch 3/20\n",
      "422/422 - 37s - loss: 0.0562 - accuracy: 0.9824 - val_loss: 0.0430 - val_accuracy: 0.9872 - 37s/epoch - 88ms/step\n",
      "Epoch 4/20\n",
      "422/422 - 37s - loss: 0.0469 - accuracy: 0.9861 - val_loss: 0.0398 - val_accuracy: 0.9883 - 37s/epoch - 87ms/step\n",
      "Epoch 5/20\n",
      "422/422 - 36s - loss: 0.0387 - accuracy: 0.9883 - val_loss: 0.0320 - val_accuracy: 0.9922 - 36s/epoch - 86ms/step\n",
      "Epoch 6/20\n",
      "422/422 - 36s - loss: 0.0359 - accuracy: 0.9885 - val_loss: 0.0313 - val_accuracy: 0.9903 - 36s/epoch - 84ms/step\n",
      "Epoch 7/20\n",
      "422/422 - 36s - loss: 0.0289 - accuracy: 0.9911 - val_loss: 0.0257 - val_accuracy: 0.9912 - 36s/epoch - 85ms/step\n",
      "Epoch 8/20\n",
      "422/422 - 36s - loss: 0.0266 - accuracy: 0.9919 - val_loss: 0.0229 - val_accuracy: 0.9923 - 36s/epoch - 86ms/step\n",
      "Epoch 9/20\n",
      "422/422 - 38s - loss: 0.0241 - accuracy: 0.9922 - val_loss: 0.0213 - val_accuracy: 0.9937 - 38s/epoch - 91ms/step\n",
      "Epoch 10/20\n",
      "422/422 - 37s - loss: 0.0209 - accuracy: 0.9939 - val_loss: 0.0198 - val_accuracy: 0.9945 - 37s/epoch - 89ms/step\n",
      "Epoch 11/20\n",
      "422/422 - 38s - loss: 0.0181 - accuracy: 0.9946 - val_loss: 0.0127 - val_accuracy: 0.9965 - 38s/epoch - 89ms/step\n",
      "Epoch 12/20\n",
      "422/422 - 38s - loss: 0.0172 - accuracy: 0.9947 - val_loss: 0.0175 - val_accuracy: 0.9937 - 38s/epoch - 90ms/step\n",
      "Epoch 13/20\n",
      "422/422 - 38s - loss: 0.0143 - accuracy: 0.9955 - val_loss: 0.0139 - val_accuracy: 0.9950 - 38s/epoch - 91ms/step\n",
      "1/1 [==============================] - 2s 2s/step - loss: 0.0321 - accuracy: 0.9898\n",
      "---Starting trial: run-1\n",
      "{'filter_size': 3, 'optimizer': 'sgd'}\n",
      "Epoch 1/20\n",
      "422/422 - 39s - loss: 0.0167 - accuracy: 0.9949 - val_loss: 0.0121 - val_accuracy: 0.9978 - 39s/epoch - 91ms/step\n",
      "Epoch 2/20\n",
      "422/422 - 47s - loss: 0.0143 - accuracy: 0.9954 - val_loss: 0.0084 - val_accuracy: 0.9978 - 47s/epoch - 111ms/step\n",
      "Epoch 3/20\n",
      "422/422 - 46s - loss: 0.0126 - accuracy: 0.9961 - val_loss: 0.0067 - val_accuracy: 0.9983 - 46s/epoch - 109ms/step\n",
      "Epoch 4/20\n",
      "422/422 - 48s - loss: 0.0122 - accuracy: 0.9963 - val_loss: 0.0078 - val_accuracy: 0.9973 - 48s/epoch - 114ms/step\n",
      "Epoch 5/20\n",
      "422/422 - 47s - loss: 0.0092 - accuracy: 0.9971 - val_loss: 0.0094 - val_accuracy: 0.9968 - 47s/epoch - 112ms/step\n",
      "1/1 [==============================] - 2s 2s/step - loss: 0.0277 - accuracy: 0.9913\n",
      "---Starting trial: run-2\n",
      "{'filter_size': 5, 'optimizer': 'adam'}\n",
      "Epoch 1/20\n",
      "422/422 - 48s - loss: 0.0125 - accuracy: 0.9958 - val_loss: 0.0181 - val_accuracy: 0.9942 - 48s/epoch - 115ms/step\n",
      "Epoch 2/20\n",
      "422/422 - 49s - loss: 0.0107 - accuracy: 0.9965 - val_loss: 0.0064 - val_accuracy: 0.9982 - 49s/epoch - 117ms/step\n",
      "Epoch 3/20\n",
      "422/422 - 50s - loss: 0.0095 - accuracy: 0.9970 - val_loss: 0.0047 - val_accuracy: 0.9983 - 50s/epoch - 118ms/step\n",
      "Epoch 4/20\n",
      "422/422 - 48s - loss: 0.0082 - accuracy: 0.9974 - val_loss: 0.0035 - val_accuracy: 0.9993 - 48s/epoch - 115ms/step\n",
      "Epoch 5/20\n",
      "422/422 - 50s - loss: 0.0062 - accuracy: 0.9981 - val_loss: 0.0038 - val_accuracy: 0.9990 - 50s/epoch - 118ms/step\n",
      "Epoch 6/20\n",
      "422/422 - 52s - loss: 0.0072 - accuracy: 0.9976 - val_loss: 0.0039 - val_accuracy: 0.9993 - 52s/epoch - 122ms/step\n",
      "1/1 [==============================] - 2s 2s/step - loss: 0.0274 - accuracy: 0.9917\n",
      "---Starting trial: run-3\n",
      "{'filter_size': 5, 'optimizer': 'sgd'}\n",
      "Epoch 1/20\n",
      "422/422 - 52s - loss: 0.0071 - accuracy: 0.9979 - val_loss: 0.0046 - val_accuracy: 0.9980 - 52s/epoch - 123ms/step\n",
      "Epoch 2/20\n",
      "422/422 - 55s - loss: 0.0074 - accuracy: 0.9976 - val_loss: 0.0062 - val_accuracy: 0.9978 - 55s/epoch - 130ms/step\n",
      "Epoch 3/20\n",
      "422/422 - 52s - loss: 0.0062 - accuracy: 0.9977 - val_loss: 0.0052 - val_accuracy: 0.9978 - 52s/epoch - 124ms/step\n",
      "1/1 [==============================] - 2s 2s/step - loss: 0.0330 - accuracy: 0.9908\n",
      "---Starting trial: run-4\n",
      "{'filter_size': 7, 'optimizer': 'adam'}\n",
      "Epoch 1/20\n",
      "422/422 - 48s - loss: 0.0069 - accuracy: 0.9979 - val_loss: 0.0077 - val_accuracy: 0.9968 - 48s/epoch - 114ms/step\n",
      "Epoch 2/20\n",
      "422/422 - 50s - loss: 0.0071 - accuracy: 0.9978 - val_loss: 0.0071 - val_accuracy: 0.9968 - 50s/epoch - 119ms/step\n",
      "Epoch 3/20\n",
      "422/422 - 52s - loss: 0.0041 - accuracy: 0.9987 - val_loss: 0.0025 - val_accuracy: 0.9993 - 52s/epoch - 123ms/step\n",
      "Epoch 4/20\n",
      "422/422 - 52s - loss: 0.0037 - accuracy: 0.9989 - val_loss: 0.0052 - val_accuracy: 0.9983 - 52s/epoch - 122ms/step\n",
      "Epoch 5/20\n",
      "422/422 - 50s - loss: 0.0055 - accuracy: 0.9982 - val_loss: 0.0076 - val_accuracy: 0.9972 - 50s/epoch - 119ms/step\n",
      "1/1 [==============================] - 2s 2s/step - loss: 0.0373 - accuracy: 0.9900\n",
      "---Starting trial: run-5\n",
      "{'filter_size': 7, 'optimizer': 'sgd'}\n",
      "Epoch 1/20\n",
      "422/422 - 49s - loss: 0.0051 - accuracy: 0.9983 - val_loss: 0.0067 - val_accuracy: 0.9972 - 49s/epoch - 116ms/step\n",
      "Epoch 2/20\n",
      "422/422 - 51s - loss: 0.0046 - accuracy: 0.9986 - val_loss: 0.0098 - val_accuracy: 0.9965 - 51s/epoch - 120ms/step\n",
      "Epoch 3/20\n",
      "422/422 - 52s - loss: 0.0063 - accuracy: 0.9980 - val_loss: 0.0023 - val_accuracy: 0.9993 - 52s/epoch - 123ms/step\n",
      "Epoch 4/20\n",
      "422/422 - 51s - loss: 0.0031 - accuracy: 0.9991 - val_loss: 0.0024 - val_accuracy: 0.9992 - 51s/epoch - 122ms/step\n",
      "Epoch 5/20\n",
      "422/422 - 52s - loss: 0.0020 - accuracy: 0.9996 - val_loss: 0.0016 - val_accuracy: 0.9997 - 52s/epoch - 124ms/step\n",
      "Epoch 6/20\n",
      "422/422 - 53s - loss: 0.0041 - accuracy: 0.9986 - val_loss: 0.0030 - val_accuracy: 0.9992 - 53s/epoch - 125ms/step\n",
      "Epoch 7/20\n",
      "422/422 - 52s - loss: 0.0046 - accuracy: 0.9983 - val_loss: 0.0023 - val_accuracy: 0.9993 - 52s/epoch - 122ms/step\n",
      "1/1 [==============================] - 2s 2s/step - loss: 0.0406 - accuracy: 0.9904\n"
     ]
    }
   ],
   "source": [
    "#Train the model with the different hyperparameters\n",
    "session_num = 0\n",
    "for filter_size in HP_FILTER_SIZE.domain.values:\n",
    "    for optimizer in HP_OPTIMIZER.domain.values:\n",
    "        hparams ={\n",
    "        HP_FILTER_SIZE: filter_size,\n",
    "        HP_OPTIMIZER : optimizer\n",
    "        }\n",
    "        \n",
    "        run_name = \"run-%d\" % session_num\n",
    "        print('---Starting trial: %s' % run_name)\n",
    "        print({h.name: hparams[h] for h in hparams})\n",
    "        run('logs/hparam_tuning/' + run_name, hparams)\n",
    "        \n",
    "        session_num += 1\n",
    "\n",
    "        "
   ]
  },
  {
   "cell_type": "code",
   "execution_count": 39,
   "id": "9d37cebc",
   "metadata": {},
   "outputs": [],
   "source": [
    "# model.summary(line_length=75)"
   ]
  },
  {
   "cell_type": "code",
   "execution_count": 50,
   "id": "2f49cd30",
   "metadata": {},
   "outputs": [],
   "source": [
    "\n",
    "\n",
    "\n"
   ]
  },
  {
   "cell_type": "code",
   "execution_count": 40,
   "id": "5cba799e",
   "metadata": {},
   "outputs": [
    {
     "name": "stdout",
     "output_type": "stream",
     "text": [
      "188/188 [==============================] - 2s 10ms/step\n"
     ]
    },
    {
     "data": {
      "image/png": "[encoded data removed]",
      "text/plain": [
       "<Figure size 432x432 with 2 Axes>"
      ]
     },
     "metadata": {
      "needs_background": "light"
     },
     "output_type": "display_data"
    }
   ],
   "source": [
    "# # Create a Confusion Matrix\n",
    "\n",
    "def make_predictions(val_images):\n",
    "    predictions = model.predict(val_images)\n",
    "    return predictions\n",
    "\n",
    "for images, labels in validation_data:\n",
    "    val_images = images.numpy()\n",
    "    val_labels = labels.numpy()\n",
    "    \n",
    "val_predict_raw= make_predictions(val_images)\n",
    "val_predict = np.argmax(val_predict_raw, axis =1)\n",
    "\n",
    "\n",
    "cm = confusion_matrix(val_labels, val_predict)\n",
    "\n",
    "# Define class labels\n",
    "class_labels = [\"Class 0\", \"Class 1\", \"Class 2\",\"Class 3\",\"Class 4\",\"Class 5\",\"Class 6\",\"Class 7\",\"Class 8\",\"Class 9\"]\n",
    "\n",
    "# Plot the confusion matrix using Seaborn\n",
    "plt.figure(figsize=(6, 6))\n",
    "sns.set(font_scale=1.2)  # Adjust the font size\n",
    "sns.heatmap(cm, annot=True, fmt=\"d\", cmap=\"Blues\", square=True,\n",
    "            xticklabels=class_labels,\n",
    "            yticklabels=class_labels)\n",
    "\n",
    "\n",
    "# disp = ConfusionMatrixDisplay(confusion_matrix=cm, display_labels=class_labels)\n",
    "# disp.plot(cmap=\"Blues\", values_format=\"d\")\n",
    "\n",
    "plt.xlabel('Predicted')\n",
    "plt.ylabel('Actual')\n",
    "plt.title('Confusion Matrix')\n",
    "plt.show()\n",
    "\n"
   ]
  },
  {
   "cell_type": "code",
   "execution_count": null,
   "id": "d61b3221",
   "metadata": {},
   "outputs": [],
   "source": []
  },
  {
   "cell_type": "code",
   "execution_count": 41,
   "id": "cf46861c",
   "metadata": {},
   "outputs": [],
   "source": []
  },
  {
   "cell_type": "code",
   "execution_count": 57,
   "id": "f8387846",
   "metadata": {},
   "outputs": [],
   "source": [
    "# #VISUALIZING IN TENSORBOARD BY \n",
    "\n",
    "# #Get the current date and time as a string\n",
    "# current_datetime = datetime.datetime.now().strftime(\"%Y-%m-%d_%H-%M-%S\")\n",
    "# \n",
    "# #Create a log directory to create a directory of each run using the current date and time.\n",
    "\n",
    "# log_dir = f'./logs/{current_datetime}'\n",
    "\n",
    "# #create a tensorboard callback\n",
    "# tensorboard_callback = tf.keras.callback.TensorBoard(log_dir=log_dir,histogram_freq=1)\n",
    "\n"
   ]
  },
  {
   "cell_type": "code",
   "execution_count": null,
   "id": "565cb469",
   "metadata": {},
   "outputs": [],
   "source": []
  },
  {
   "cell_type": "code",
   "execution_count": 63,
   "id": "6f4fd383",
   "metadata": {},
   "outputs": [],
   "source": [
    "# #Test the model\n",
    "# test_loss, test_accuracy = model.evaluate(test_data)\n",
    "\n",
    "# print(f'Test Loss: {round(test_loss,2)}. Test Accuracy:{round(test_accuracy*100,2)}%')"
   ]
  },
  {
   "cell_type": "code",
   "execution_count": 45,
   "id": "9cccc936",
   "metadata": {},
   "outputs": [
    {
     "data": {
      "image/png": "[encoded data removed]",
      "text/plain": [
       "<Figure size 144x144 with 1 Axes>"
      ]
     },
     "metadata": {},
     "output_type": "display_data"
    }
   ],
   "source": [
    "\n",
    "#PLOT THE IMAGE AND RESULT\n",
    "\n",
    "# Get and display the nth images from the training dataset. n=1\n",
    "num_images_to_display = 1\n",
    "for image, label in test_data.take(num_images_to_display):\n",
    "    sample_image = image.numpy()# Convert to numpy array and remove singleton dimensions\n",
    "    sample_label = label.numpy()\n",
    "\n",
    "original_images = sample_image.reshape(10000, 28, 28)\n",
    "\n",
    "# Display the image using matplotlib\n",
    "image_number_to_display = 900\n",
    "\n",
    "plt.figure(figsize=(2,2))\n",
    "plt.imshow(sample_image[image_number_to_display], cmap='gray', aspect=\"auto\")\n",
    "plt.title(f'Label: {sample_label[image_number_to_display]}')\n",
    "plt.axis('off')  # Turn off axis\n",
    "plt.show()"
   ]
  },
  {
   "cell_type": "code",
   "execution_count": 46,
   "id": "fd97b810",
   "metadata": {},
   "outputs": [
    {
     "name": "stdout",
     "output_type": "stream",
     "text": [
      "1/1 [==============================] - 0s 34ms/step\n"
     ]
    },
    {
     "data": {
      "text/plain": [
       "<BarContainer object of 10 artists>"
      ]
     },
     "execution_count": 46,
     "metadata": {},
     "output_type": "execute_result"
    },
    {
     "data": {
      "image/png": "[encoded data removed]",
      "text/plain": [
       "<Figure size 864x360 with 1 Axes>"
      ]
     },
     "metadata": {},
     "output_type": "display_data"
    }
   ],
   "source": [
    "#Obtain the model's prediction(logits)\n",
    "\n",
    "#Using slicing is important because tensorflow expects inputs to be in batches.\n",
    "predictions = make_predictions(sample_image[image_number_to_display:image_number_to_display+1])\n",
    "\n",
    "#Convert the predictions into probabilities and to percentage\n",
    "probabilities = (tf.nn.softmax(predictions).numpy()) *100\n",
    "\n",
    "#Create a bar chart to plot the probabilities for each class\n",
    "plt.figure(figsize=(12,5))\n",
    "plt.bar(x=[1,2,3,4,5,6,7,8,9,10], height=probabilities[0], tick_label=[\"0\", \"1\",\"2\",\"3\",\"4\",\"5\",\"6\",\"7\",\"8\",\"9\"])"
   ]
  },
  {
   "cell_type": "code",
   "execution_count": 49,
   "id": "956201a4",
   "metadata": {},
   "outputs": [],
   "source": [
    "# #Load Tensorboard using the commands\n",
    "# %load_ext tensorboard\n",
    "# %tensorboard --logdir \"logs/hparam_tuning\"\n",
    "\n"
   ]
  },
  {
   "cell_type": "code",
   "execution_count": null,
   "id": "55d979fc",
   "metadata": {},
   "outputs": [],
   "source": []
  },
  {
   "cell_type": "code",
   "execution_count": null,
   "id": "534f5ed4",
   "metadata": {},
   "outputs": [],
   "source": []
  },
  {
   "cell_type": "code",
   "execution_count": null,
   "id": "f4a90856",
   "metadata": {},
   "outputs": [],
   "source": []
  }
 ],
 "metadata": {
  "kernelspec": {
   "display_name": "Python 3 (ipykernel)",
   "language": "python",
   "name": "python3"
  },
  "language_info": {
   "codemirror_mode": {
    "name": "ipython",
    "version": 3
   },
   "file_extension": ".py",
   "mimetype": "text/x-python",
   "name": "python",
   "nbconvert_exporter": "python",
   "pygments_lexer": "ipython3",
   "version": "3.9.12"
  }
 },
 "nbformat": 4,
 "nbformat_minor": 5
}
